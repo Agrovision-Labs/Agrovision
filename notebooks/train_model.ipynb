{
 "cells": [
  {
   "cell_type": "code",
   "execution_count": null,
   "id": "d6bfea57",
   "metadata": {},
   "outputs": [],
   "source": [
    "# 🚀 Agrovision Training Notebook\n",
    "\n",
    "# STEP 1: Install OpenMapFlow\n",
    "!pip install openmapflow\n",
    "\n",
    "# STEP 2: Import and pull the dataset\n",
    "!openmapflow pull crop_noncrop_global\n",
    "\n",
    "# STEP 3: Train the model\n",
    "!openmapflow train --dataset crop_noncrop_global\n"
   ]
  }
 ],
 "metadata": {
  "language_info": {
   "name": "python"
  }
 },
 "nbformat": 4,
 "nbformat_minor": 5
}
